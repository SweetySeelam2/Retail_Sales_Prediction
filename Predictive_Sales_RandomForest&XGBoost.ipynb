{
 "cells": [
  {
   "cell_type": "markdown",
   "id": "3c032146",
   "metadata": {},
   "source": [
    "#Project Overview: This project develops a Predictive Sales Model to forecast sales revenue using machine learning (Random Forest & XGBoost) and advanced feature engineering. The model is designed to optimize business decisions by predicting future sales based on historical data.\n",
    "\n",
    "##Key Features: -Dataset: Retail Store Sales Transactions (Kaggle)https://www.kaggle.com/datasets/marian447/retail-store-sales-transactions -Feature Engineering: Lag variables, rolling averages, holiday effects -Machine Learning Models: Regular (Random Forest) & Advanced (XGBoost with hyperparameter tuning) -Model Explainability: SHAP (SHapley Additive Explanations) -Deployment: Streamlit web app & Flask API"
   ]
  },
  {
   "cell_type": "code",
   "execution_count": 1,
   "id": "f2c04bcd",
   "metadata": {},
   "outputs": [],
   "source": [
    "#Import required libraries\n",
    "import pandas as pd\n",
    "import numpy as np"
   ]
  },
  {
   "cell_type": "code",
   "execution_count": 2,
   "id": "d4a08340",
   "metadata": {},
   "outputs": [],
   "source": [
    "# Load dataset\n",
    "df=pd.read_csv(r\"C:\\Users\\sweet\\Desktop\\DataScience\\Github projects\\ExcelCSV\\Retail_Sales.csv\")"
   ]
  },
  {
   "cell_type": "code",
   "execution_count": 3,
   "id": "2d200c14",
   "metadata": {},
   "outputs": [
    {
     "data": {
      "text/html": [
       "<div>\n",
       "<style scoped>\n",
       "    .dataframe tbody tr th:only-of-type {\n",
       "        vertical-align: middle;\n",
       "    }\n",
       "\n",
       "    .dataframe tbody tr th {\n",
       "        vertical-align: top;\n",
       "    }\n",
       "\n",
       "    .dataframe thead th {\n",
       "        text-align: right;\n",
       "    }\n",
       "</style>\n",
       "<table border=\"1\" class=\"dataframe\">\n",
       "  <thead>\n",
       "    <tr style=\"text-align: right;\">\n",
       "      <th></th>\n",
       "      <th>Unnamed: 0</th>\n",
       "      <th>Date</th>\n",
       "      <th>Customer_ID</th>\n",
       "      <th>Transaction_ID</th>\n",
       "      <th>SKU_Category</th>\n",
       "      <th>SKU</th>\n",
       "      <th>Quantity</th>\n",
       "      <th>Sales_Amount</th>\n",
       "    </tr>\n",
       "  </thead>\n",
       "  <tbody>\n",
       "    <tr>\n",
       "      <th>0</th>\n",
       "      <td>1</td>\n",
       "      <td>02/01/2016</td>\n",
       "      <td>2547</td>\n",
       "      <td>1</td>\n",
       "      <td>X52</td>\n",
       "      <td>0EM7L</td>\n",
       "      <td>1.0</td>\n",
       "      <td>3.13</td>\n",
       "    </tr>\n",
       "    <tr>\n",
       "      <th>1</th>\n",
       "      <td>2</td>\n",
       "      <td>02/01/2016</td>\n",
       "      <td>822</td>\n",
       "      <td>2</td>\n",
       "      <td>2ML</td>\n",
       "      <td>68BRQ</td>\n",
       "      <td>1.0</td>\n",
       "      <td>5.46</td>\n",
       "    </tr>\n",
       "    <tr>\n",
       "      <th>2</th>\n",
       "      <td>3</td>\n",
       "      <td>02/01/2016</td>\n",
       "      <td>3686</td>\n",
       "      <td>3</td>\n",
       "      <td>0H2</td>\n",
       "      <td>CZUZX</td>\n",
       "      <td>1.0</td>\n",
       "      <td>6.35</td>\n",
       "    </tr>\n",
       "    <tr>\n",
       "      <th>3</th>\n",
       "      <td>4</td>\n",
       "      <td>02/01/2016</td>\n",
       "      <td>3719</td>\n",
       "      <td>4</td>\n",
       "      <td>0H2</td>\n",
       "      <td>549KK</td>\n",
       "      <td>1.0</td>\n",
       "      <td>5.59</td>\n",
       "    </tr>\n",
       "    <tr>\n",
       "      <th>4</th>\n",
       "      <td>5</td>\n",
       "      <td>02/01/2016</td>\n",
       "      <td>9200</td>\n",
       "      <td>5</td>\n",
       "      <td>0H2</td>\n",
       "      <td>K8EHH</td>\n",
       "      <td>1.0</td>\n",
       "      <td>6.88</td>\n",
       "    </tr>\n",
       "  </tbody>\n",
       "</table>\n",
       "</div>"
      ],
      "text/plain": [
       "   Unnamed: 0        Date  Customer_ID  Transaction_ID SKU_Category    SKU  \\\n",
       "0           1  02/01/2016         2547               1          X52  0EM7L   \n",
       "1           2  02/01/2016          822               2          2ML  68BRQ   \n",
       "2           3  02/01/2016         3686               3          0H2  CZUZX   \n",
       "3           4  02/01/2016         3719               4          0H2  549KK   \n",
       "4           5  02/01/2016         9200               5          0H2  K8EHH   \n",
       "\n",
       "   Quantity  Sales_Amount  \n",
       "0       1.0          3.13  \n",
       "1       1.0          5.46  \n",
       "2       1.0          6.35  \n",
       "3       1.0          5.59  \n",
       "4       1.0          6.88  "
      ]
     },
     "execution_count": 3,
     "metadata": {},
     "output_type": "execute_result"
    }
   ],
   "source": [
    "# Display first few rows\n",
    "df.head()"
   ]
  },
  {
   "cell_type": "code",
   "execution_count": 4,
   "id": "d85b5f6b",
   "metadata": {},
   "outputs": [
    {
     "name": "stdout",
     "output_type": "stream",
     "text": [
      "Unnamed: 0        0\n",
      "Date              0\n",
      "Customer_ID       0\n",
      "Transaction_ID    0\n",
      "SKU_Category      0\n",
      "SKU               0\n",
      "Quantity          0\n",
      "Sales_Amount      0\n",
      "dtype: int64\n"
     ]
    }
   ],
   "source": [
    "# Check missing values\n",
    "print(df.isnull().sum())"
   ]
  },
  {
   "cell_type": "code",
   "execution_count": 5,
   "id": "93731872",
   "metadata": {},
   "outputs": [
    {
     "name": "stdout",
     "output_type": "stream",
     "text": [
      "Index(['Unnamed: 0', 'Date', 'Customer_ID', 'Transaction_ID', 'SKU_Category',\n",
      "       'SKU', 'Quantity', 'Sales_Amount'],\n",
      "      dtype='object')\n"
     ]
    }
   ],
   "source": [
    "print(df.columns)"
   ]
  },
  {
   "cell_type": "code",
   "execution_count": 6,
   "id": "4d54c289",
   "metadata": {},
   "outputs": [],
   "source": [
    "df['Date'] = pd.to_datetime(df['Date'], errors='coerce', dayfirst=True)"
   ]
  },
  {
   "cell_type": "code",
   "execution_count": 7,
   "id": "54047a3c",
   "metadata": {},
   "outputs": [
    {
     "name": "stdout",
     "output_type": "stream",
     "text": [
      "Empty DataFrame\n",
      "Columns: [Unnamed: 0, Date, Customer_ID, Transaction_ID, SKU_Category, SKU, Quantity, Sales_Amount]\n",
      "Index: []\n"
     ]
    }
   ],
   "source": [
    "print(df[df['Date'].isna()])"
   ]
  },
  {
   "cell_type": "code",
   "execution_count": 8,
   "id": "cb41188e",
   "metadata": {},
   "outputs": [],
   "source": [
    "df['year'] = df['Date'].dt.year\n",
    "df['month'] = df['Date'].dt.month"
   ]
  },
  {
   "cell_type": "code",
   "execution_count": 9,
   "id": "b8052d10",
   "metadata": {},
   "outputs": [
    {
     "name": "stdout",
     "output_type": "stream",
     "text": [
      "        Date  year  month\n",
      "0 2016-01-02  2016      1\n",
      "1 2016-01-02  2016      1\n",
      "2 2016-01-02  2016      1\n",
      "3 2016-01-02  2016      1\n",
      "4 2016-01-02  2016      1\n"
     ]
    }
   ],
   "source": [
    "print(df[['Date', 'year', 'month']].head())"
   ]
  },
  {
   "cell_type": "code",
   "execution_count": 10,
   "id": "fc138f17",
   "metadata": {},
   "outputs": [
    {
     "name": "stdout",
     "output_type": "stream",
     "text": [
      "[2016]\n",
      "[ 1  2  3  4  5  6  7  8  9 10 11 12]\n"
     ]
    }
   ],
   "source": [
    "print(df['year'].unique())\n",
    "print(df['month'].unique())"
   ]
  },
  {
   "cell_type": "code",
   "execution_count": 11,
   "id": "491607b1",
   "metadata": {},
   "outputs": [],
   "source": [
    "df['day'] = df['Date'].dt.day\n",
    "df['day_of_week'] = df['Date'].dt.dayofweek"
   ]
  },
  {
   "cell_type": "code",
   "execution_count": 12,
   "id": "1256ef70",
   "metadata": {},
   "outputs": [
    {
     "name": "stdout",
     "output_type": "stream",
     "text": [
      "   day  day_of_week\n",
      "0    2            5\n",
      "1    2            5\n",
      "2    2            5\n",
      "3    2            5\n",
      "4    2            5\n"
     ]
    }
   ],
   "source": [
    "print(df[['day', 'day_of_week']].head())"
   ]
  },
  {
   "cell_type": "code",
   "execution_count": 13,
   "id": "3ea8893f",
   "metadata": {},
   "outputs": [
    {
     "name": "stdout",
     "output_type": "stream",
     "text": [
      "[ 2  3  4  5  6  7  8  9 10 11 12 13 14 15 16 17 18 19 20 21 22 23 24 25\n",
      " 26 27 28 29 30 31  1]\n",
      "[5 6 0 1 2 3 4]\n"
     ]
    }
   ],
   "source": [
    "print(df['day'].unique())\n",
    "print(df['day_of_week'].unique())"
   ]
  },
  {
   "cell_type": "code",
   "execution_count": 14,
   "id": "63e4b291",
   "metadata": {},
   "outputs": [],
   "source": [
    "#Feature Engineering\n",
    "\n",
    "##Lag Variables:\n",
    "for lag in [7,14,30]:\n",
    "    df[f'Sales_lag_{lag}'] = df['Sales_Amount'].shift(lag)"
   ]
  },
  {
   "cell_type": "code",
   "execution_count": 15,
   "id": "cc72c89b",
   "metadata": {},
   "outputs": [],
   "source": [
    "##Rolling Averages\n",
    "df['rolling_mean_7'] = df['Sales_Amount'].rolling(window=7).mean()\n",
    "df['rolling_std_7'] = df['Sales_Amount'].rolling(window=7).std()"
   ]
  },
  {
   "cell_type": "code",
   "execution_count": 16,
   "id": "5c610e97",
   "metadata": {},
   "outputs": [],
   "source": [
    "#Holiday Effects\n",
    "#We create a binary feature for holiday sales.\n",
    "\n",
    "holidays = ['2025-01-01', '2025-01-20', '2025-05-26', '2025-06-19', '2025-07-04', '2025-09-01', '2025-11-11', '2025-11-27', '2025-12-25']  # Example holidays\n",
    "df['is_holiday'] = df['Date'].isin(pd.to_datetime(holidays)).astype(int)"
   ]
  },
  {
   "cell_type": "code",
   "execution_count": 17,
   "id": "331bcd97",
   "metadata": {},
   "outputs": [],
   "source": [
    "# Ensure no NaN values in lag features\n",
    "df.dropna(subset=['Sales_lag_7', 'Sales_lag_14', 'Sales_lag_30'], inplace=True)"
   ]
  },
  {
   "cell_type": "code",
   "execution_count": 18,
   "id": "4aef1b61",
   "metadata": {},
   "outputs": [],
   "source": [
    "#Model Development\n",
    "from sklearn.model_selection import train_test_split\n",
    "\n",
    "# Select features and target\n",
    "features = ['year', 'month', 'day', 'day_of_week', 'Sales_lag_7', 'Sales_lag_14', 'Sales_lag_30', 'rolling_mean_7', 'is_holiday']\n",
    "target = 'Sales_Amount'"
   ]
  },
  {
   "cell_type": "code",
   "execution_count": 19,
   "id": "6f7dee63",
   "metadata": {},
   "outputs": [],
   "source": [
    "# Drop NaN values caused by lag features\n",
    "df.dropna(inplace=True)\n",
    "\n",
    "X_train, X_test, y_train, y_test = train_test_split(df[features], df[target], test_size=0.2, random_state=42)"
   ]
  },
  {
   "cell_type": "code",
   "execution_count": 20,
   "id": "08ef17bc",
   "metadata": {},
   "outputs": [],
   "source": [
    "#Import libraries - Random Forest Model, Mean_absolute_error\n",
    "from sklearn.ensemble import RandomForestRegressor\n",
    "from sklearn.metrics import mean_absolute_error"
   ]
  },
  {
   "cell_type": "code",
   "execution_count": 21,
   "id": "52a15167",
   "metadata": {},
   "outputs": [
    {
     "data": {
      "text/html": [
       "<style>#sk-container-id-1 {color: black;background-color: white;}#sk-container-id-1 pre{padding: 0;}#sk-container-id-1 div.sk-toggleable {background-color: white;}#sk-container-id-1 label.sk-toggleable__label {cursor: pointer;display: block;width: 100%;margin-bottom: 0;padding: 0.3em;box-sizing: border-box;text-align: center;}#sk-container-id-1 label.sk-toggleable__label-arrow:before {content: \"▸\";float: left;margin-right: 0.25em;color: #696969;}#sk-container-id-1 label.sk-toggleable__label-arrow:hover:before {color: black;}#sk-container-id-1 div.sk-estimator:hover label.sk-toggleable__label-arrow:before {color: black;}#sk-container-id-1 div.sk-toggleable__content {max-height: 0;max-width: 0;overflow: hidden;text-align: left;background-color: #f0f8ff;}#sk-container-id-1 div.sk-toggleable__content pre {margin: 0.2em;color: black;border-radius: 0.25em;background-color: #f0f8ff;}#sk-container-id-1 input.sk-toggleable__control:checked~div.sk-toggleable__content {max-height: 200px;max-width: 100%;overflow: auto;}#sk-container-id-1 input.sk-toggleable__control:checked~label.sk-toggleable__label-arrow:before {content: \"▾\";}#sk-container-id-1 div.sk-estimator input.sk-toggleable__control:checked~label.sk-toggleable__label {background-color: #d4ebff;}#sk-container-id-1 div.sk-label input.sk-toggleable__control:checked~label.sk-toggleable__label {background-color: #d4ebff;}#sk-container-id-1 input.sk-hidden--visually {border: 0;clip: rect(1px 1px 1px 1px);clip: rect(1px, 1px, 1px, 1px);height: 1px;margin: -1px;overflow: hidden;padding: 0;position: absolute;width: 1px;}#sk-container-id-1 div.sk-estimator {font-family: monospace;background-color: #f0f8ff;border: 1px dotted black;border-radius: 0.25em;box-sizing: border-box;margin-bottom: 0.5em;}#sk-container-id-1 div.sk-estimator:hover {background-color: #d4ebff;}#sk-container-id-1 div.sk-parallel-item::after {content: \"\";width: 100%;border-bottom: 1px solid gray;flex-grow: 1;}#sk-container-id-1 div.sk-label:hover label.sk-toggleable__label {background-color: #d4ebff;}#sk-container-id-1 div.sk-serial::before {content: \"\";position: absolute;border-left: 1px solid gray;box-sizing: border-box;top: 0;bottom: 0;left: 50%;z-index: 0;}#sk-container-id-1 div.sk-serial {display: flex;flex-direction: column;align-items: center;background-color: white;padding-right: 0.2em;padding-left: 0.2em;position: relative;}#sk-container-id-1 div.sk-item {position: relative;z-index: 1;}#sk-container-id-1 div.sk-parallel {display: flex;align-items: stretch;justify-content: center;background-color: white;position: relative;}#sk-container-id-1 div.sk-item::before, #sk-container-id-1 div.sk-parallel-item::before {content: \"\";position: absolute;border-left: 1px solid gray;box-sizing: border-box;top: 0;bottom: 0;left: 50%;z-index: -1;}#sk-container-id-1 div.sk-parallel-item {display: flex;flex-direction: column;z-index: 1;position: relative;background-color: white;}#sk-container-id-1 div.sk-parallel-item:first-child::after {align-self: flex-end;width: 50%;}#sk-container-id-1 div.sk-parallel-item:last-child::after {align-self: flex-start;width: 50%;}#sk-container-id-1 div.sk-parallel-item:only-child::after {width: 0;}#sk-container-id-1 div.sk-dashed-wrapped {border: 1px dashed gray;margin: 0 0.4em 0.5em 0.4em;box-sizing: border-box;padding-bottom: 0.4em;background-color: white;}#sk-container-id-1 div.sk-label label {font-family: monospace;font-weight: bold;display: inline-block;line-height: 1.2em;}#sk-container-id-1 div.sk-label-container {text-align: center;}#sk-container-id-1 div.sk-container {/* jupyter's `normalize.less` sets `[hidden] { display: none; }` but bootstrap.min.css set `[hidden] { display: none !important; }` so we also need the `!important` here to be able to override the default hidden behavior on the sphinx rendered scikit-learn.org. See: https://github.com/scikit-learn/scikit-learn/issues/21755 */display: inline-block !important;position: relative;}#sk-container-id-1 div.sk-text-repr-fallback {display: none;}</style><div id=\"sk-container-id-1\" class=\"sk-top-container\"><div class=\"sk-text-repr-fallback\"><pre>RandomForestRegressor(random_state=42)</pre><b>In a Jupyter environment, please rerun this cell to show the HTML representation or trust the notebook. <br />On GitHub, the HTML representation is unable to render, please try loading this page with nbviewer.org.</b></div><div class=\"sk-container\" hidden><div class=\"sk-item\"><div class=\"sk-estimator sk-toggleable\"><input class=\"sk-toggleable__control sk-hidden--visually\" id=\"sk-estimator-id-1\" type=\"checkbox\" checked><label for=\"sk-estimator-id-1\" class=\"sk-toggleable__label sk-toggleable__label-arrow\">RandomForestRegressor</label><div class=\"sk-toggleable__content\"><pre>RandomForestRegressor(random_state=42)</pre></div></div></div></div></div>"
      ],
      "text/plain": [
       "RandomForestRegressor(random_state=42)"
      ]
     },
     "execution_count": 21,
     "metadata": {},
     "output_type": "execute_result"
    }
   ],
   "source": [
    "# Initialize model\n",
    "rf_model = RandomForestRegressor(n_estimators=100, random_state=42)\n",
    "rf_model.fit(X_train, y_train)"
   ]
  },
  {
   "cell_type": "code",
   "execution_count": 22,
   "id": "9acc4a1c",
   "metadata": {},
   "outputs": [],
   "source": [
    "# Predictions\n",
    "y_pred = rf_model.predict(X_test)"
   ]
  },
  {
   "cell_type": "code",
   "execution_count": 23,
   "id": "898b1c45",
   "metadata": {},
   "outputs": [
    {
     "name": "stdout",
     "output_type": "stream",
     "text": [
      "Random Forest MAE: 9.2126891213548\n"
     ]
    }
   ],
   "source": [
    "# Evaluate\n",
    "mae = mean_absolute_error(y_test, y_pred)\n",
    "print(f'Random Forest MAE: {mae}')"
   ]
  },
  {
   "cell_type": "code",
   "execution_count": 26,
   "id": "d90ad143",
   "metadata": {},
   "outputs": [
    {
     "name": "stdout",
     "output_type": "stream",
     "text": [
      "Collecting xgboost\n",
      "  Downloading xgboost-2.1.4-py3-none-win_amd64.whl.metadata (2.1 kB)\n",
      "Requirement already satisfied: numpy in c:\\users\\sweet\\anaconda3\\lib\\site-packages (from xgboost) (1.26.4)\n",
      "Requirement already satisfied: scipy in c:\\users\\sweet\\anaconda3\\lib\\site-packages (from xgboost) (1.11.4)\n",
      "Downloading xgboost-2.1.4-py3-none-win_amd64.whl (124.9 MB)\n",
      "   ---------------------------------------- 0.0/124.9 MB ? eta -:--:--\n",
      "   ---------------------------------------- 0.0/124.9 MB ? eta -:--:--\n",
      "   ---------------------------------------- 0.0/124.9 MB 325.1 kB/s eta 0:06:25\n",
      "   ---------------------------------------- 0.1/124.9 MB 655.4 kB/s eta 0:03:11\n",
      "   ---------------------------------------- 0.3/124.9 MB 1.5 MB/s eta 0:01:24\n",
      "   ---------------------------------------- 0.7/124.9 MB 3.1 MB/s eta 0:00:41\n",
      "    --------------------------------------- 1.9/124.9 MB 7.2 MB/s eta 0:00:18\n",
      "   - -------------------------------------- 4.2/124.9 MB 13.4 MB/s eta 0:00:09\n",
      "   - -------------------------------------- 4.2/124.9 MB 13.4 MB/s eta 0:00:09\n",
      "   -- ------------------------------------- 6.5/124.9 MB 15.9 MB/s eta 0:00:08\n",
      "   --- ------------------------------------ 9.7/124.9 MB 22.1 MB/s eta 0:00:06\n",
      "   --- ------------------------------------ 12.3/124.9 MB 50.1 MB/s eta 0:00:03\n",
      "   ---- ----------------------------------- 15.3/124.9 MB 81.8 MB/s eta 0:00:02\n",
      "   ----- ---------------------------------- 17.9/124.9 MB 72.6 MB/s eta 0:00:02\n",
      "   ------ --------------------------------- 21.3/124.9 MB 65.2 MB/s eta 0:00:02\n",
      "   ------- -------------------------------- 23.9/124.9 MB 65.6 MB/s eta 0:00:02\n",
      "   -------- ------------------------------- 26.8/124.9 MB 72.6 MB/s eta 0:00:02\n",
      "   --------- ------------------------------ 29.7/124.9 MB 72.6 MB/s eta 0:00:02\n",
      "   ---------- ----------------------------- 33.0/124.9 MB 73.1 MB/s eta 0:00:02\n",
      "   ----------- ---------------------------- 36.5/124.9 MB 73.1 MB/s eta 0:00:02\n",
      "   ------------ --------------------------- 39.1/124.9 MB 65.6 MB/s eta 0:00:02\n",
      "   ------------- -------------------------- 40.7/124.9 MB 59.5 MB/s eta 0:00:02\n",
      "   ------------- -------------------------- 42.0/124.9 MB 54.7 MB/s eta 0:00:02\n",
      "   ------------- -------------------------- 43.3/124.9 MB 46.7 MB/s eta 0:00:02\n",
      "   -------------- ------------------------- 44.9/124.9 MB 43.7 MB/s eta 0:00:02\n",
      "   -------------- ------------------------- 46.5/124.9 MB 38.5 MB/s eta 0:00:03\n",
      "   --------------- ------------------------ 48.5/124.9 MB 34.4 MB/s eta 0:00:03\n",
      "   ---------------- ----------------------- 50.2/124.9 MB 36.3 MB/s eta 0:00:03\n",
      "   ---------------- ----------------------- 51.4/124.9 MB 34.4 MB/s eta 0:00:03\n",
      "   ---------------- ----------------------- 52.8/124.9 MB 34.6 MB/s eta 0:00:03\n",
      "   ----------------- ---------------------- 53.9/124.9 MB 32.8 MB/s eta 0:00:03\n",
      "   ----------------- ---------------------- 54.8/124.9 MB 31.2 MB/s eta 0:00:03\n",
      "   ------------------ --------------------- 56.6/124.9 MB 31.2 MB/s eta 0:00:03\n",
      "   ------------------ --------------------- 58.1/124.9 MB 31.2 MB/s eta 0:00:03\n",
      "   ------------------ --------------------- 58.9/124.9 MB 28.5 MB/s eta 0:00:03\n",
      "   ------------------ --------------------- 59.3/124.9 MB 27.3 MB/s eta 0:00:03\n",
      "   ------------------- -------------------- 59.6/124.9 MB 24.2 MB/s eta 0:00:03\n",
      "   ------------------- -------------------- 60.6/124.9 MB 23.4 MB/s eta 0:00:03\n",
      "   -------------------- ------------------- 62.8/124.9 MB 24.2 MB/s eta 0:00:03\n",
      "   -------------------- ------------------- 65.0/124.9 MB 28.4 MB/s eta 0:00:03\n",
      "   --------------------- ------------------ 67.5/124.9 MB 29.8 MB/s eta 0:00:02\n",
      "   ---------------------- ----------------- 69.8/124.9 MB 40.9 MB/s eta 0:00:02\n",
      "   ----------------------- ---------------- 71.8/124.9 MB 46.7 MB/s eta 0:00:02\n",
      "   ----------------------- ---------------- 73.6/124.9 MB 46.7 MB/s eta 0:00:02\n",
      "   ------------------------ --------------- 75.5/124.9 MB 43.5 MB/s eta 0:00:02\n",
      "   ------------------------ --------------- 77.1/124.9 MB 43.5 MB/s eta 0:00:02\n",
      "   ------------------------- -------------- 78.3/124.9 MB 38.5 MB/s eta 0:00:02\n",
      "   ------------------------- -------------- 79.9/124.9 MB 38.5 MB/s eta 0:00:02\n",
      "   -------------------------- ------------- 82.3/124.9 MB 38.6 MB/s eta 0:00:02\n",
      "   -------------------------- ------------- 83.8/124.9 MB 38.6 MB/s eta 0:00:02\n",
      "   --------------------------- ------------ 85.7/124.9 MB 38.6 MB/s eta 0:00:02\n",
      "   --------------------------- ------------ 86.7/124.9 MB 36.4 MB/s eta 0:00:02\n",
      "   --------------------------- ------------ 87.0/124.9 MB 32.8 MB/s eta 0:00:02\n",
      "   --------------------------- ------------ 87.2/124.9 MB 28.5 MB/s eta 0:00:02\n",
      "   --------------------------- ------------ 87.3/124.9 MB 27.3 MB/s eta 0:00:02\n",
      "   ---------------------------- ----------- 87.7/124.9 MB 22.5 MB/s eta 0:00:02\n",
      "   ---------------------------- ----------- 88.1/124.9 MB 21.1 MB/s eta 0:00:02\n",
      "   ---------------------------- ----------- 88.4/124.9 MB 19.9 MB/s eta 0:00:02\n",
      "   ---------------------------- ----------- 88.6/124.9 MB 18.2 MB/s eta 0:00:02\n",
      "   ---------------------------- ----------- 89.4/124.9 MB 17.2 MB/s eta 0:00:03\n",
      "   ----------------------------- ---------- 90.8/124.9 MB 17.2 MB/s eta 0:00:02\n",
      "   ----------------------------- ---------- 92.4/124.9 MB 16.4 MB/s eta 0:00:02\n",
      "   ----------------------------- ---------- 93.5/124.9 MB 15.6 MB/s eta 0:00:03\n",
      "   ------------------------------ --------- 95.5/124.9 MB 16.0 MB/s eta 0:00:02\n",
      "   ------------------------------- -------- 97.5/124.9 MB 19.3 MB/s eta 0:00:02\n",
      "   ------------------------------- -------- 99.6/124.9 MB 34.4 MB/s eta 0:00:01\n",
      "   ------------------------------- ------- 100.7/124.9 MB 34.4 MB/s eta 0:00:01\n",
      "   ------------------------------- ------- 101.6/124.9 MB 31.2 MB/s eta 0:00:01\n",
      "   -------------------------------- ------ 103.4/124.9 MB 34.4 MB/s eta 0:00:01\n",
      "   -------------------------------- ------ 105.3/124.9 MB 34.6 MB/s eta 0:00:01\n",
      "   --------------------------------- ----- 107.1/124.9 MB 34.4 MB/s eta 0:00:01\n",
      "   --------------------------------- ----- 108.6/124.9 MB 32.8 MB/s eta 0:00:01\n",
      "   ---------------------------------- ---- 110.6/124.9 MB 32.8 MB/s eta 0:00:01\n",
      "   ----------------------------------- --- 112.5/124.9 MB 38.5 MB/s eta 0:00:01\n",
      "   ----------------------------------- --- 114.4/124.9 MB 38.5 MB/s eta 0:00:01\n",
      "   ------------------------------------ -- 116.3/124.9 MB 38.5 MB/s eta 0:00:01\n",
      "   ------------------------------------ -- 118.3/124.9 MB 40.9 MB/s eta 0:00:01\n",
      "   ------------------------------------- - 120.3/124.9 MB 40.9 MB/s eta 0:00:01\n",
      "   --------------------------------------  122.1/124.9 MB 40.9 MB/s eta 0:00:01\n",
      "   --------------------------------------  123.9/124.9 MB 40.9 MB/s eta 0:00:01\n",
      "   --------------------------------------  124.9/124.9 MB 38.6 MB/s eta 0:00:01\n",
      "   --------------------------------------  124.9/124.9 MB 38.6 MB/s eta 0:00:01\n",
      "   --------------------------------------  124.9/124.9 MB 38.6 MB/s eta 0:00:01\n",
      "   --------------------------------------  124.9/124.9 MB 38.6 MB/s eta 0:00:01\n",
      "   --------------------------------------  124.9/124.9 MB 38.6 MB/s eta 0:00:01\n",
      "   --------------------------------------  124.9/124.9 MB 38.6 MB/s eta 0:00:01\n",
      "   --------------------------------------  124.9/124.9 MB 38.6 MB/s eta 0:00:01\n",
      "   --------------------------------------  124.9/124.9 MB 38.6 MB/s eta 0:00:01\n",
      "   --------------------------------------  124.9/124.9 MB 38.6 MB/s eta 0:00:01\n",
      "   --------------------------------------  124.9/124.9 MB 38.6 MB/s eta 0:00:01\n",
      "   --------------------------------------  124.9/124.9 MB 38.6 MB/s eta 0:00:01\n",
      "   --------------------------------------- 124.9/124.9 MB 12.8 MB/s eta 0:00:00\n",
      "Installing collected packages: xgboost\n",
      "Successfully installed xgboost-2.1.4\n"
     ]
    }
   ],
   "source": [
    "#XGBoost with Hyperparameter Tuning\n",
    "!pip install xgboost\n",
    "from xgboost import XGBRegressor\n",
    "from sklearn.model_selection import GridSearchCV"
   ]
  },
  {
   "cell_type": "code",
   "execution_count": 27,
   "id": "440ab2d7",
   "metadata": {},
   "outputs": [],
   "source": [
    "# Initialize XGBoost model\n",
    "xgb_model = XGBRegressor(objective='reg:squarederror', random_state=42)\n"
   ]
  },
  {
   "cell_type": "code",
   "execution_count": 28,
   "id": "9ec9ef6a",
   "metadata": {},
   "outputs": [
    {
     "name": "stdout",
     "output_type": "stream",
     "text": [
      "Fitting 3 folds for each of 12 candidates, totalling 36 fits\n"
     ]
    },
    {
     "data": {
      "text/html": [
       "<style>#sk-container-id-2 {color: black;background-color: white;}#sk-container-id-2 pre{padding: 0;}#sk-container-id-2 div.sk-toggleable {background-color: white;}#sk-container-id-2 label.sk-toggleable__label {cursor: pointer;display: block;width: 100%;margin-bottom: 0;padding: 0.3em;box-sizing: border-box;text-align: center;}#sk-container-id-2 label.sk-toggleable__label-arrow:before {content: \"▸\";float: left;margin-right: 0.25em;color: #696969;}#sk-container-id-2 label.sk-toggleable__label-arrow:hover:before {color: black;}#sk-container-id-2 div.sk-estimator:hover label.sk-toggleable__label-arrow:before {color: black;}#sk-container-id-2 div.sk-toggleable__content {max-height: 0;max-width: 0;overflow: hidden;text-align: left;background-color: #f0f8ff;}#sk-container-id-2 div.sk-toggleable__content pre {margin: 0.2em;color: black;border-radius: 0.25em;background-color: #f0f8ff;}#sk-container-id-2 input.sk-toggleable__control:checked~div.sk-toggleable__content {max-height: 200px;max-width: 100%;overflow: auto;}#sk-container-id-2 input.sk-toggleable__control:checked~label.sk-toggleable__label-arrow:before {content: \"▾\";}#sk-container-id-2 div.sk-estimator input.sk-toggleable__control:checked~label.sk-toggleable__label {background-color: #d4ebff;}#sk-container-id-2 div.sk-label input.sk-toggleable__control:checked~label.sk-toggleable__label {background-color: #d4ebff;}#sk-container-id-2 input.sk-hidden--visually {border: 0;clip: rect(1px 1px 1px 1px);clip: rect(1px, 1px, 1px, 1px);height: 1px;margin: -1px;overflow: hidden;padding: 0;position: absolute;width: 1px;}#sk-container-id-2 div.sk-estimator {font-family: monospace;background-color: #f0f8ff;border: 1px dotted black;border-radius: 0.25em;box-sizing: border-box;margin-bottom: 0.5em;}#sk-container-id-2 div.sk-estimator:hover {background-color: #d4ebff;}#sk-container-id-2 div.sk-parallel-item::after {content: \"\";width: 100%;border-bottom: 1px solid gray;flex-grow: 1;}#sk-container-id-2 div.sk-label:hover label.sk-toggleable__label {background-color: #d4ebff;}#sk-container-id-2 div.sk-serial::before {content: \"\";position: absolute;border-left: 1px solid gray;box-sizing: border-box;top: 0;bottom: 0;left: 50%;z-index: 0;}#sk-container-id-2 div.sk-serial {display: flex;flex-direction: column;align-items: center;background-color: white;padding-right: 0.2em;padding-left: 0.2em;position: relative;}#sk-container-id-2 div.sk-item {position: relative;z-index: 1;}#sk-container-id-2 div.sk-parallel {display: flex;align-items: stretch;justify-content: center;background-color: white;position: relative;}#sk-container-id-2 div.sk-item::before, #sk-container-id-2 div.sk-parallel-item::before {content: \"\";position: absolute;border-left: 1px solid gray;box-sizing: border-box;top: 0;bottom: 0;left: 50%;z-index: -1;}#sk-container-id-2 div.sk-parallel-item {display: flex;flex-direction: column;z-index: 1;position: relative;background-color: white;}#sk-container-id-2 div.sk-parallel-item:first-child::after {align-self: flex-end;width: 50%;}#sk-container-id-2 div.sk-parallel-item:last-child::after {align-self: flex-start;width: 50%;}#sk-container-id-2 div.sk-parallel-item:only-child::after {width: 0;}#sk-container-id-2 div.sk-dashed-wrapped {border: 1px dashed gray;margin: 0 0.4em 0.5em 0.4em;box-sizing: border-box;padding-bottom: 0.4em;background-color: white;}#sk-container-id-2 div.sk-label label {font-family: monospace;font-weight: bold;display: inline-block;line-height: 1.2em;}#sk-container-id-2 div.sk-label-container {text-align: center;}#sk-container-id-2 div.sk-container {/* jupyter's `normalize.less` sets `[hidden] { display: none; }` but bootstrap.min.css set `[hidden] { display: none !important; }` so we also need the `!important` here to be able to override the default hidden behavior on the sphinx rendered scikit-learn.org. See: https://github.com/scikit-learn/scikit-learn/issues/21755 */display: inline-block !important;position: relative;}#sk-container-id-2 div.sk-text-repr-fallback {display: none;}</style><div id=\"sk-container-id-2\" class=\"sk-top-container\"><div class=\"sk-text-repr-fallback\"><pre>GridSearchCV(cv=3,\n",
       "             estimator=XGBRegressor(base_score=None, booster=None,\n",
       "                                    callbacks=None, colsample_bylevel=None,\n",
       "                                    colsample_bynode=None,\n",
       "                                    colsample_bytree=None, device=None,\n",
       "                                    early_stopping_rounds=None,\n",
       "                                    enable_categorical=False, eval_metric=None,\n",
       "                                    feature_types=None, gamma=None,\n",
       "                                    grow_policy=None, importance_type=None,\n",
       "                                    interaction_constraints=None,\n",
       "                                    learning_rate=None, m...\n",
       "                                    max_cat_to_onehot=None, max_delta_step=None,\n",
       "                                    max_depth=None, max_leaves=None,\n",
       "                                    min_child_weight=None, missing=nan,\n",
       "                                    monotone_constraints=None,\n",
       "                                    multi_strategy=None, n_estimators=None,\n",
       "                                    n_jobs=None, num_parallel_tree=None,\n",
       "                                    random_state=42, ...),\n",
       "             param_grid={&#x27;learning_rate&#x27;: [0.01, 0.1], &#x27;max_depth&#x27;: [3, 5, 7],\n",
       "                         &#x27;n_estimators&#x27;: [100, 200]},\n",
       "             scoring=&#x27;neg_mean_absolute_error&#x27;, verbose=1)</pre><b>In a Jupyter environment, please rerun this cell to show the HTML representation or trust the notebook. <br />On GitHub, the HTML representation is unable to render, please try loading this page with nbviewer.org.</b></div><div class=\"sk-container\" hidden><div class=\"sk-item sk-dashed-wrapped\"><div class=\"sk-label-container\"><div class=\"sk-label sk-toggleable\"><input class=\"sk-toggleable__control sk-hidden--visually\" id=\"sk-estimator-id-2\" type=\"checkbox\" ><label for=\"sk-estimator-id-2\" class=\"sk-toggleable__label sk-toggleable__label-arrow\">GridSearchCV</label><div class=\"sk-toggleable__content\"><pre>GridSearchCV(cv=3,\n",
       "             estimator=XGBRegressor(base_score=None, booster=None,\n",
       "                                    callbacks=None, colsample_bylevel=None,\n",
       "                                    colsample_bynode=None,\n",
       "                                    colsample_bytree=None, device=None,\n",
       "                                    early_stopping_rounds=None,\n",
       "                                    enable_categorical=False, eval_metric=None,\n",
       "                                    feature_types=None, gamma=None,\n",
       "                                    grow_policy=None, importance_type=None,\n",
       "                                    interaction_constraints=None,\n",
       "                                    learning_rate=None, m...\n",
       "                                    max_cat_to_onehot=None, max_delta_step=None,\n",
       "                                    max_depth=None, max_leaves=None,\n",
       "                                    min_child_weight=None, missing=nan,\n",
       "                                    monotone_constraints=None,\n",
       "                                    multi_strategy=None, n_estimators=None,\n",
       "                                    n_jobs=None, num_parallel_tree=None,\n",
       "                                    random_state=42, ...),\n",
       "             param_grid={&#x27;learning_rate&#x27;: [0.01, 0.1], &#x27;max_depth&#x27;: [3, 5, 7],\n",
       "                         &#x27;n_estimators&#x27;: [100, 200]},\n",
       "             scoring=&#x27;neg_mean_absolute_error&#x27;, verbose=1)</pre></div></div></div><div class=\"sk-parallel\"><div class=\"sk-parallel-item\"><div class=\"sk-item\"><div class=\"sk-label-container\"><div class=\"sk-label sk-toggleable\"><input class=\"sk-toggleable__control sk-hidden--visually\" id=\"sk-estimator-id-3\" type=\"checkbox\" ><label for=\"sk-estimator-id-3\" class=\"sk-toggleable__label sk-toggleable__label-arrow\">estimator: XGBRegressor</label><div class=\"sk-toggleable__content\"><pre>XGBRegressor(base_score=None, booster=None, callbacks=None,\n",
       "             colsample_bylevel=None, colsample_bynode=None,\n",
       "             colsample_bytree=None, device=None, early_stopping_rounds=None,\n",
       "             enable_categorical=False, eval_metric=None, feature_types=None,\n",
       "             gamma=None, grow_policy=None, importance_type=None,\n",
       "             interaction_constraints=None, learning_rate=None, max_bin=None,\n",
       "             max_cat_threshold=None, max_cat_to_onehot=None,\n",
       "             max_delta_step=None, max_depth=None, max_leaves=None,\n",
       "             min_child_weight=None, missing=nan, monotone_constraints=None,\n",
       "             multi_strategy=None, n_estimators=None, n_jobs=None,\n",
       "             num_parallel_tree=None, random_state=42, ...)</pre></div></div></div><div class=\"sk-serial\"><div class=\"sk-item\"><div class=\"sk-estimator sk-toggleable\"><input class=\"sk-toggleable__control sk-hidden--visually\" id=\"sk-estimator-id-4\" type=\"checkbox\" ><label for=\"sk-estimator-id-4\" class=\"sk-toggleable__label sk-toggleable__label-arrow\">XGBRegressor</label><div class=\"sk-toggleable__content\"><pre>XGBRegressor(base_score=None, booster=None, callbacks=None,\n",
       "             colsample_bylevel=None, colsample_bynode=None,\n",
       "             colsample_bytree=None, device=None, early_stopping_rounds=None,\n",
       "             enable_categorical=False, eval_metric=None, feature_types=None,\n",
       "             gamma=None, grow_policy=None, importance_type=None,\n",
       "             interaction_constraints=None, learning_rate=None, max_bin=None,\n",
       "             max_cat_threshold=None, max_cat_to_onehot=None,\n",
       "             max_delta_step=None, max_depth=None, max_leaves=None,\n",
       "             min_child_weight=None, missing=nan, monotone_constraints=None,\n",
       "             multi_strategy=None, n_estimators=None, n_jobs=None,\n",
       "             num_parallel_tree=None, random_state=42, ...)</pre></div></div></div></div></div></div></div></div></div></div>"
      ],
      "text/plain": [
       "GridSearchCV(cv=3,\n",
       "             estimator=XGBRegressor(base_score=None, booster=None,\n",
       "                                    callbacks=None, colsample_bylevel=None,\n",
       "                                    colsample_bynode=None,\n",
       "                                    colsample_bytree=None, device=None,\n",
       "                                    early_stopping_rounds=None,\n",
       "                                    enable_categorical=False, eval_metric=None,\n",
       "                                    feature_types=None, gamma=None,\n",
       "                                    grow_policy=None, importance_type=None,\n",
       "                                    interaction_constraints=None,\n",
       "                                    learning_rate=None, m...\n",
       "                                    max_cat_to_onehot=None, max_delta_step=None,\n",
       "                                    max_depth=None, max_leaves=None,\n",
       "                                    min_child_weight=None, missing=nan,\n",
       "                                    monotone_constraints=None,\n",
       "                                    multi_strategy=None, n_estimators=None,\n",
       "                                    n_jobs=None, num_parallel_tree=None,\n",
       "                                    random_state=42, ...),\n",
       "             param_grid={'learning_rate': [0.01, 0.1], 'max_depth': [3, 5, 7],\n",
       "                         'n_estimators': [100, 200]},\n",
       "             scoring='neg_mean_absolute_error', verbose=1)"
      ]
     },
     "execution_count": 28,
     "metadata": {},
     "output_type": "execute_result"
    }
   ],
   "source": [
    "# Hyperparameter tuning\n",
    "param_grid = {\n",
    "    'n_estimators': [100, 200],\n",
    "    'learning_rate': [0.01, 0.1],\n",
    "    'max_depth': [3, 5, 7]\n",
    "}\n",
    "\n",
    "grid_search = GridSearchCV(xgb_model, param_grid, cv=3, scoring='neg_mean_absolute_error', verbose=1)\n",
    "grid_search.fit(X_train, y_train)"
   ]
  },
  {
   "cell_type": "code",
   "execution_count": 29,
   "id": "f9c8367a",
   "metadata": {},
   "outputs": [],
   "source": [
    "# Best model\n",
    "best_xgb = grid_search.best_estimator_\n",
    "y_pred_xgb = best_xgb.predict(X_test)"
   ]
  },
  {
   "cell_type": "code",
   "execution_count": 30,
   "id": "d015235f",
   "metadata": {},
   "outputs": [
    {
     "name": "stdout",
     "output_type": "stream",
     "text": [
      "XGBoost MAE: 8.66630037761908\n"
     ]
    }
   ],
   "source": [
    "# Evaluate\n",
    "mae_xgb = mean_absolute_error(y_test, y_pred_xgb)\n",
    "print(f'XGBoost MAE: {mae_xgb}')"
   ]
  },
  {
   "cell_type": "code",
   "execution_count": 32,
   "id": "2cd6fbfa",
   "metadata": {},
   "outputs": [
    {
     "name": "stdout",
     "output_type": "stream",
     "text": [
      "Collecting shap\n",
      "  Downloading shap-0.46.0-cp311-cp311-win_amd64.whl.metadata (25 kB)\n",
      "Requirement already satisfied: numpy in c:\\users\\sweet\\anaconda3\\lib\\site-packages (from shap) (1.26.4)\n",
      "Requirement already satisfied: scipy in c:\\users\\sweet\\anaconda3\\lib\\site-packages (from shap) (1.11.4)\n",
      "Requirement already satisfied: scikit-learn in c:\\users\\sweet\\anaconda3\\lib\\site-packages (from shap) (1.2.2)\n",
      "Requirement already satisfied: pandas in c:\\users\\sweet\\anaconda3\\lib\\site-packages (from shap) (2.1.4)\n",
      "Requirement already satisfied: tqdm>=4.27.0 in c:\\users\\sweet\\anaconda3\\lib\\site-packages (from shap) (4.65.0)\n",
      "Requirement already satisfied: packaging>20.9 in c:\\users\\sweet\\anaconda3\\lib\\site-packages (from shap) (23.1)\n",
      "Collecting slicer==0.0.8 (from shap)\n",
      "  Downloading slicer-0.0.8-py3-none-any.whl.metadata (4.0 kB)\n",
      "Requirement already satisfied: numba in c:\\users\\sweet\\anaconda3\\lib\\site-packages (from shap) (0.59.0)\n",
      "Requirement already satisfied: cloudpickle in c:\\users\\sweet\\anaconda3\\lib\\site-packages (from shap) (2.2.1)\n",
      "Requirement already satisfied: colorama in c:\\users\\sweet\\anaconda3\\lib\\site-packages (from tqdm>=4.27.0->shap) (0.4.6)\n",
      "Requirement already satisfied: llvmlite<0.43,>=0.42.0dev0 in c:\\users\\sweet\\anaconda3\\lib\\site-packages (from numba->shap) (0.42.0)\n",
      "Requirement already satisfied: python-dateutil>=2.8.2 in c:\\users\\sweet\\anaconda3\\lib\\site-packages (from pandas->shap) (2.8.2)\n",
      "Requirement already satisfied: pytz>=2020.1 in c:\\users\\sweet\\anaconda3\\lib\\site-packages (from pandas->shap) (2023.3.post1)\n",
      "Requirement already satisfied: tzdata>=2022.1 in c:\\users\\sweet\\anaconda3\\lib\\site-packages (from pandas->shap) (2023.3)\n",
      "Requirement already satisfied: joblib>=1.1.1 in c:\\users\\sweet\\anaconda3\\lib\\site-packages (from scikit-learn->shap) (1.2.0)\n",
      "Requirement already satisfied: threadpoolctl>=2.0.0 in c:\\users\\sweet\\anaconda3\\lib\\site-packages (from scikit-learn->shap) (2.2.0)\n",
      "Requirement already satisfied: six>=1.5 in c:\\users\\sweet\\anaconda3\\lib\\site-packages (from python-dateutil>=2.8.2->pandas->shap) (1.16.0)\n",
      "Downloading shap-0.46.0-cp311-cp311-win_amd64.whl (456 kB)\n",
      "   ---------------------------------------- 0.0/456.1 kB ? eta -:--:--\n",
      "   --------- ------------------------------ 112.6/456.1 kB 2.2 MB/s eta 0:00:01\n",
      "   ------------------------- -------------- 286.7/456.1 kB 3.5 MB/s eta 0:00:01\n",
      "   ---------------------------------------- 456.1/456.1 kB 4.1 MB/s eta 0:00:00\n",
      "Downloading slicer-0.0.8-py3-none-any.whl (15 kB)\n",
      "Installing collected packages: slicer, shap\n",
      "Successfully installed shap-0.46.0 slicer-0.0.8\n"
     ]
    }
   ],
   "source": [
    "#Model Explainability using SHAP\n",
    "!pip install shap\n",
    "import shap\n"
   ]
  },
  {
   "cell_type": "code",
   "execution_count": 33,
   "id": "1230b598",
   "metadata": {},
   "outputs": [
    {
     "data": {
      "image/png": "[encoded data removed]",
      "text/plain": [
       "<Figure size 800x510 with 2 Axes>"
      ]
     },
     "metadata": {},
     "output_type": "display_data"
    }
   ],
   "source": [
    "explainer = shap.Explainer(best_xgb)\n",
    "shap_values = explainer(X_test)\n",
    "\n",
    "shap.summary_plot(shap_values, X_test)"
   ]
  },
  {
   "cell_type": "markdown",
   "id": "afb6d332",
   "metadata": {},
   "source": [
    "#Conclusion"
   ]
  },
  {
   "cell_type": "code",
   "execution_count": null,
   "id": "3730b1a4",
   "metadata": {},
   "outputs": [],
   "source": [
    "=> Model Comparison\n",
    "Random Forest MAE: 9.21\n",
    "XGBoost MAE: 8.66\n",
    "XGBoost outperforms Random Forest with a lower Mean Absolute Error (MAE), meaning it makes better predictions.\n",
    "\n",
    "=> Feature Importance (SHAP Analysis)\n",
    "Top Influential Features:\n",
    "Rolling Mean (7-day average sales): Has the highest impact on predictions.\n",
    "Sales Lag Features (7, 14, 30 days): Past sales data significantly influence future predictions.\n",
    "Day of the Week & Month: Sales trends vary based on weekdays and months.\n",
    "Holiday Indicator: Sales tend to fluctuate around holidays.\n",
    "\n",
    "=> Observations from SHAP Plot\n",
    "Features with higher SHAP values have a greater influence on model predictions.\n",
    "Rolling Mean & Recent Sales Lags dominate the prediction, highlighting the importance of time-series patterns.\n",
    "\n",
    "=> Key Takeaways\n",
    "- XGBoost performs better than Random Forest, making it the preferred model.\n",
    "- Sales prediction is highly dependent on historical sales trends.\n",
    "- Time-related factors like week, month, and holiday status play an essential role in forecasting sales."
   ]
  }
 ],
 "metadata": {
  "kernelspec": {
   "display_name": "Python 3 (ipykernel)",
   "language": "python",
   "name": "python3"
  },
  "language_info": {
   "codemirror_mode": {
    "name": "ipython",
    "version": 3
   },
   "file_extension": ".py",
   "mimetype": "text/x-python",
   "name": "python",
   "nbconvert_exporter": "python",
   "pygments_lexer": "ipython3",
   "version": "3.12.7"
  }
 },
 "nbformat": 4,
 "nbformat_minor": 5
}
